{
 "cells": [
  {
   "cell_type": "code",
   "execution_count": 7,
   "metadata": {},
   "outputs": [],
   "source": [
    "from matplotlib import pyplot\n",
    "import matplotlib.pyplot as plt\n",
    "import pandas as pd\n",
    "import numpy as np\n",
    "import os, sys"
   ]
  },
  {
   "cell_type": "code",
   "execution_count": 11,
   "metadata": {},
   "outputs": [],
   "source": [
    "class FigureDraw(object):\n",
    "\n",
    "    def __init__(self, date, name):\n",
    "        self.date = date\n",
    "        self.name = name\n",
    "\n",
    "    def function(self):\n",
    "        f = open(name, 'r')\n",
    "        lines = f.readlines()\n",
    "        f.close()\n",
    "        red = []\n",
    "        yellow = []\n",
    "        green = []\n",
    "        ambient = []\n",
    "        for line in lines:\n",
    "            line = line.strip('\\n')\n",
    "            m = int(-1)\n",
    "            n = int(0)\n",
    "            c = int(0)\n",
    "            for i in range(0, len(line)):\n",
    "                if line[i] != ' ' and m == -1:\n",
    "                    m = i\n",
    "                if line[i] == ' ' and m != -1:\n",
    "                    n = i\n",
    "                    temp = line[m:n]\n",
    "                    if c == 0:\n",
    "                        red.append(temp)\n",
    "                    elif c == 1:\n",
    "                        yellow.append(temp)\n",
    "                    elif c == 2:\n",
    "                        green.append(temp)\n",
    "                    else:\n",
    "                        ambient.append(temp)\n",
    "                    c += 1\n",
    "                    m = -1\n",
    "                    n = 0\n",
    "        index = np.linspace(0, 24, len(red))\n",
    "        try:\n",
    "            red = [float(x) for x in red]\n",
    "            yellow = [float(x) for x in yellow]\n",
    "            green = [float(x) for x in green]\n",
    "            ambient = [float(x) for x in ambient]\n",
    "        except Error as err:\n",
    "            print(err)\n",
    "            print(name)\n",
    "            return\n",
    "        low = int(min([min(ambient),min(red),min(green),min(yellow)])) - 5\n",
    "        up = int(max([max(red),max(yellow),max(green),max(ambient)])) + 15\n",
    "        plt.xlim((0, 24))\n",
    "        plt.ylim((low, up))\n",
    "        ax = plt.gca()\n",
    "        ax.set_facecolor('grey')\n",
    "        plt.title(label=self.date, fontsize=16)\n",
    "        plt.plot(index, red, color='r', linewidth=0.7, label='red_temp')\n",
    "        plt.plot(index, yellow, color='y', linewidth=0.7, label='yellow_temp')\n",
    "        plt.plot(index, green, color='g', linewidth=0.7, label='green_temp')\n",
    "        plt.plot(index, ambient, color='b', linewidth=0.7, label='ambient_temp')\n",
    "        plt.xlabel('Hours of a Day', fontsize=12)\n",
    "        plt.ylabel('Temperature-Celsius', fontsize=12)\n",
    "        plt.legend(fontsize='8', loc=9)\n",
    "        plt.savefig('./processed_figures/' + self.date + '.png', dpi = 250)\n",
    "        plt.close()"
   ]
  },
  {
   "cell_type": "code",
   "execution_count": 12,
   "metadata": {},
   "outputs": [
    {
     "name": "stdout",
     "output_type": "stream",
     "text": [
      "12_18_2019\n",
      "12_19_2019\n",
      "12_20_2019\n",
      "12_21_2019\n",
      "12_22_2019\n",
      "12_23_2019\n",
      "12_24_2019\n",
      "12_25_2019\n",
      "12_26_2019\n",
      "12_27_2019\n",
      "12_28_2019\n",
      "12_29_2019\n",
      "12_30_2019\n",
      "12_31_2019\n",
      "done!\n"
     ]
    }
   ],
   "source": [
    "# main function start here!\n",
    "#CHAGE MONTH AND YEAR HERE [FORMAT: MM_[]_YYYY]\n",
    "Mth = '12' #CHAGE MONTH HERE [FORMAT: MM]\n",
    "Yrs = '2019'  #CHAGE YEAR HERE [FORMAT: YYYY]\n",
    "dpth = 'H:/Signal_recording_project_dataprocessing/Lawrence_SOUTH_W19toW20/out' # CHANGE THE INPUT DATA PATH\n",
    "##end#\n",
    "\n",
    "os.chdir(dpth)\n",
    "if os.path.isdir('./processed_figures') == True:\n",
    "    pass\n",
    "else:\n",
    "    os.makedirs('./processed_figures')\n",
    "z = 1\n",
    "while z <= 31:\n",
    "    d = '%s_%02d_%s' % (Mth, z, Yrs)    \n",
    "    z += 1\n",
    "    name = './' + 'thermal_sorted_' + d + '.txt'\n",
    "    if os.path.exists(name):\n",
    "        print(d)\n",
    "        fd = FigureDraw(d, name)\n",
    "        fd.function()\n",
    "    else:\n",
    "        continue\n",
    "print('done!')"
   ]
  },
  {
   "cell_type": "code",
   "execution_count": null,
   "metadata": {},
   "outputs": [],
   "source": []
  }
 ],
 "metadata": {
  "kernelspec": {
   "display_name": "Python 3",
   "language": "python",
   "name": "python3"
  },
  "language_info": {
   "codemirror_mode": {
    "name": "ipython",
    "version": 3
   },
   "file_extension": ".py",
   "mimetype": "text/x-python",
   "name": "python",
   "nbconvert_exporter": "python",
   "pygments_lexer": "ipython3",
   "version": "3.7.4"
  }
 },
 "nbformat": 4,
 "nbformat_minor": 4
}
